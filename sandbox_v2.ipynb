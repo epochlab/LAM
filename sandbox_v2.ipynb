{
 "cells": [
  {
   "attachments": {},
   "cell_type": "markdown",
   "metadata": {},
   "source": [
    "# Laplacian associative memory (LAM)\n",
    "\n",
    "[Multiscale representations of community structures in attractor neural networks](https://www.ncbi.nlm.nih.gov/pmc/articles/PMC8412329/pdf/pcbi.1009296.pdf) (2021)"
   ]
  },
  {
   "cell_type": "code",
   "execution_count": 331,
   "metadata": {},
   "outputs": [],
   "source": [
    "import numpy as np\n",
    "import matplotlib.pyplot as plt"
   ]
  },
  {
   "cell_type": "code",
   "execution_count": 367,
   "metadata": {},
   "outputs": [],
   "source": [
    "m0 = np.array([1, 0, 0, 1, 0, 1, 1, 1])\n",
    "m1 = np.array([0, 1, 0, 1, 1, 1, 0, 1])\n",
    "m2 = np.array([1, 1, 1, 1, 1, 0, 1, 0])\n",
    "\n",
    "history = []\n",
    "history.append(m0)\n",
    "history.append(m1)\n",
    "history.append(m2)\n",
    "\n",
    "history = np.array(history)"
   ]
  },
  {
   "cell_type": "code",
   "execution_count": 368,
   "metadata": {},
   "outputs": [
    {
     "name": "stdout",
     "output_type": "stream",
     "text": [
      "[[ 3. -1.  1.  1. -1. -1.  3. -1.]\n",
      " [-1.  3.  1.  1.  3. -1. -1. -1.]\n",
      " [ 1.  1.  3. -1.  1. -3.  1. -3.]\n",
      " [ 1.  1. -1.  3.  1.  1.  1.  1.]\n",
      " [-1.  3.  1.  1.  3. -1. -1. -1.]\n",
      " [-1. -1. -3.  1. -1.  3. -1.  3.]\n",
      " [ 3. -1.  1.  1. -1. -1.  3. -1.]\n",
      " [-1. -1. -3.  1. -1.  3. -1.  3.]]\n"
     ]
    },
    {
     "data": {
      "text/plain": [
       "<matplotlib.image.AxesImage at 0x7fb573f7f760>"
      ]
     },
     "execution_count": 368,
     "metadata": {},
     "output_type": "execute_result"
    },
    {
     "data": {
      "image/png": "[encoded data removed]",
      "text/plain": [
       "<Figure size 640x480 with 1 Axes>"
      ]
     },
     "metadata": {},
     "output_type": "display_data"
    }
   ],
   "source": [
    "n_dim = len(history[0])\n",
    "weights = np.zeros((n_dim, n_dim))\n",
    "\n",
    "for memory in history:\n",
    "    for i in range(n_dim):\n",
    "        for j in range(n_dim):\n",
    "            if memory[i]==memory[j]:\n",
    "                weights[i,j] += 1\n",
    "            else:\n",
    "                weights[i,j] -= 1\n",
    "\n",
    "print(weights)\n",
    "plt.imshow(weights)"
   ]
  }
 ],
 "metadata": {
  "kernelspec": {
   "display_name": "dev",
   "language": "python",
   "name": "python3"
  },
  "language_info": {
   "codemirror_mode": {
    "name": "ipython",
    "version": 3
   },
   "file_extension": ".py",
   "mimetype": "text/x-python",
   "name": "python",
   "nbconvert_exporter": "python",
   "pygments_lexer": "ipython3",
   "version": "3.10.9"
  },
  "orig_nbformat": 4,
  "vscode": {
   "interpreter": {
    "hash": "e22c083f026c7769b83b8857fa3ac4d22c31dd61e89868550b0afe4a500a3cf3"
   }
  }
 },
 "nbformat": 4,
 "nbformat_minor": 2
}
