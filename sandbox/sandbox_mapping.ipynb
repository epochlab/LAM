{
 "cells": [
  {
   "attachments": {},
   "cell_type": "markdown",
   "metadata": {},
   "source": [
    "## Mapping (Pinwheels)"
   ]
  },
  {
   "cell_type": "code",
   "execution_count": 1,
   "metadata": {},
   "outputs": [],
   "source": [
    "import numpy as np\n",
    "import matplotlib.pyplot as plt"
   ]
  },
  {
   "cell_type": "code",
   "execution_count": 2,
   "metadata": {},
   "outputs": [],
   "source": [
    "def HSV2RGB(h,s,v):\n",
    "    i = np.floor(h*6)\n",
    "    f = h * 6.0 - i\n",
    "    p = v * (1.0 - s)\n",
    "    q = v * (1.0 - f * s)\n",
    "    t = v * (1.0 - (1.0 - f) * s)\n",
    "\n",
    "    imod = i%6\n",
    "    if(imod==0): return p,q,v\n",
    "    elif(imod==1): return t,p,v\n",
    "    elif(imod==2): return v,p,q\n",
    "    elif(imod==3): return v,t,p\n",
    "    elif(imod==4): return q,v,p\n",
    "    elif(imod==5): return p,v,t"
   ]
  },
  {
   "cell_type": "code",
   "execution_count": 3,
   "metadata": {},
   "outputs": [],
   "source": [
    "n = 1\n",
    "kc = 100.0\n",
    "\n",
    "L = (np.random.rand(n) < 0.5) * 2.0 - 1\n",
    "phi = np.random.rand(n) * 2 * np.pi"
   ]
  },
  {
   "cell_type": "code",
   "execution_count": 4,
   "metadata": {},
   "outputs": [],
   "source": [
    "ext = 20.0\n",
    "Nhalf = 100\n",
    "N = Nhalf * 2 + 1\n",
    "\n",
    "x,y = np.meshgrid(np.linspace(-ext*0.5, ext*0.5, N), np.linspace(-ext*0.5, ext*0.5, N))\n",
    "\n",
    "Z = np.zeros([N,N])\n",
    "Zx = np.zeros([N,N])\n",
    "Zy = np.zeros([N,N])\n",
    "S = np.zeros([N,N])"
   ]
  },
  {
   "cell_type": "code",
   "execution_count": 5,
   "metadata": {},
   "outputs": [],
   "source": [
    "for a in range(N):\n",
    "    for b in range(N):\n",
    "        zx = 0.0\n",
    "        zy = 0.0\n",
    "\n",
    "        for j in range(n):\n",
    "            theta = (j+1) * np.pi / n\n",
    "            XKplusPhi = x[a,b] * np.cos(theta) + y[a,b] * np.sin(theta)\n",
    "            zx += L[j] * np.cos(XKplusPhi)\n",
    "            zy += L[j] * np.sin(XKplusPhi)\n",
    "\n",
    "        Zx[a][b] = zx\n",
    "        Zy[a][b] = zy\n",
    "        Z[a][b] = (np.arctan2(zy,zx) + np.pi) * 0.5\n",
    "        S[a][b] = np.sqrt(zx**2 + zy**2)"
   ]
  },
  {
   "cell_type": "code",
   "execution_count": 6,
   "metadata": {},
   "outputs": [],
   "source": [
    "# Generate map image\n",
    "Smax = np.max(S)\n",
    "Map = np.zeros([N,N,3])\n",
    "MapSel = np.zeros([N,N,3])\n",
    "for a in range(N):\n",
    "    for b in range(N):\n",
    "        Map[a,b,:] = HSV2RGB(Z[a,b]/np.pi, 1.0, 1.0)\n",
    "        MapSel[a,b,:] = HSV2RGB(Z[a,b]/np.pi, 1.0, S[a,b]/Smax)"
   ]
  },
  {
   "cell_type": "code",
   "execution_count": 7,
   "metadata": {},
   "outputs": [
    {
     "data": {
      "text/plain": [
       "<matplotlib.image.AxesImage at 0x7fd170675ee0>"
      ]
     },
     "execution_count": 7,
     "metadata": {},
     "output_type": "execute_result"
    },
    {
     "data": {
      "image/png": "[encoded data removed]",
      "text/plain": [
       "<Figure size 640x480 with 1 Axes>"
      ]
     },
     "metadata": {},
     "output_type": "display_data"
    }
   ],
   "source": [
    "# Orientation map\n",
    "plt.imshow(Map,extent=[-ext*0.5, ext*0.5, -ext*0.5, ext*0.5])"
   ]
  }
 ],
 "metadata": {
  "kernelspec": {
   "display_name": "dev",
   "language": "python",
   "name": "python3"
  },
  "language_info": {
   "codemirror_mode": {
    "name": "ipython",
    "version": 3
   },
   "file_extension": ".py",
   "mimetype": "text/x-python",
   "name": "python",
   "nbconvert_exporter": "python",
   "pygments_lexer": "ipython3",
   "version": "3.9.16"
  },
  "orig_nbformat": 4,
  "vscode": {
   "interpreter": {
    "hash": "e22c083f026c7769b83b8857fa3ac4d22c31dd61e89868550b0afe4a500a3cf3"
   }
  }
 },
 "nbformat": 4,
 "nbformat_minor": 2
}
