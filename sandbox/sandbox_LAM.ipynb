{
 "cells": [
  {
   "attachments": {},
   "cell_type": "markdown",
   "metadata": {},
   "source": [
    "# Laplacian Associative Memory (LAM)\n",
    "\n",
    "[Multiscale representations of community structures in attractor neural networks](https://www.ncbi.nlm.nih.gov/pmc/articles/PMC8412329/pdf/pcbi.1009296.pdf) (2021)\n"
   ]
  },
  {
   "cell_type": "code",
   "execution_count": 512,
   "metadata": {},
   "outputs": [],
   "source": [
    "import numpy as np\n",
    "import matplotlib.pyplot as plt"
   ]
  },
  {
   "cell_type": "code",
   "execution_count": 513,
   "metadata": {},
   "outputs": [],
   "source": [
    "# np.random.seed(123)"
   ]
  },
  {
   "cell_type": "code",
   "execution_count": 514,
   "metadata": {},
   "outputs": [],
   "source": [
    "class LAM():\n",
    "    def __init__(self, ndim):\n",
    "        self.ndim = ndim\n",
    "        self.weights = np.zeros((self.ndim, self.ndim))\n",
    "        self.degree = np.zeros_like(self.weights)\n",
    "        self.adjacency = np.zeros_like(self.weights)\n",
    "        self.laplacian = np.zeros_like(self.weights)\n",
    "\n",
    "    def train(self, data, threshold=0.1):\n",
    "        for sample in data:\n",
    "            memory = np.array([np.where(sample > threshold, 1, -1)]) # Binary dipole (+/-)\n",
    "            delta_weights = memory.T * memory # Outer-product of the transpose\n",
    "            self.weights += delta_weights # Update weights\n",
    "            self.weights = (self.weights + self.weights.T) / 2 # Enforce symmetrical weights\n",
    "\n",
    "        self.degree = np.diag(np.sum(self.weights, axis=1)) # Diagonal matrix with the degree of each vertex\n",
    "        self.adjacency[np.abs(self.weights) > 0] = 1 # Normalized connectivity of network\n",
    "        np.fill_diagonal(self.adjacency, 0) # Set diagonal to 0\n",
    "\n",
    "        self.laplacian = self.degree - self.adjacency # Construct laplacian matrix (hetero-associative)\n",
    "\n",
    "        print(self.laplacian) # NEEDS TO BE NORMALISED\n",
    "\n",
    "    def infer(self, state, iterations):\n",
    "        for _ in range(iterations):\n",
    "            idx = np.random.randint(self.ndim) # Select random neuron\n",
    "            spin = np.dot(self.weights[idx,:], state) + self.laplacian[idx, idx] * state[idx] # Activation function\n",
    "            state[idx] = self.step(spin)\n",
    "        return state\n",
    "\n",
    "    def step(self, x): # Step / Threshold activation function\n",
    "        return 1 if x > 0 else 0\n",
    "\n",
    "    def sigmoid(self, x): # Continuous activation function\n",
    "        return 1.0 / (1.0 + np.exp(-x))\n",
    "    \n",
    "    def kronecker_delta(i, j):\n",
    "        return 1 if i==j else 0 \n",
    "\n",
    "    def compute_energy(self, state): # As per original paper\n",
    "        return -0.5 * np.dot(np.dot(self.weights, state), state.T)"
   ]
  },
  {
   "cell_type": "code",
   "execution_count": 515,
   "metadata": {},
   "outputs": [],
   "source": [
    "# Hyperparameters\n",
    "ndim = 16\n",
    "memory = 8\n",
    "p = 0.1\n",
    "alpha = 0.1"
   ]
  },
  {
   "cell_type": "code",
   "execution_count": 516,
   "metadata": {},
   "outputs": [
    {
     "name": "stdout",
     "output_type": "stream",
     "text": [
      "[0 1 0 1 1 0 0 0 1 0 0 1 1 0 1 0]\n",
      "(8, 16)\n"
     ]
    }
   ],
   "source": [
    "data = np.array([1 if x > 0.5 else 0 for x in np.random.rand(ndim * memory)], dtype=np.int8)\n",
    "data = data.reshape(memory, ndim)\n",
    "\n",
    "print(data[0])\n",
    "print(data.shape)"
   ]
  },
  {
   "cell_type": "code",
   "execution_count": 517,
   "metadata": {},
   "outputs": [],
   "source": [
    "# Build model\n",
    "model = LAM(ndim)"
   ]
  },
  {
   "cell_type": "code",
   "execution_count": 518,
   "metadata": {},
   "outputs": [
    {
     "name": "stdout",
     "output_type": "stream",
     "text": [
      "16 neurons\n",
      "120 weighted connections\n",
      "2.21 point attactors\n",
      "28.80 bit capacity\n"
     ]
    }
   ],
   "source": [
    "# Summary\n",
    "w = int((ndim * (ndim - 1)) / 2)\n",
    "\n",
    "print(ndim, \"neurons\")\n",
    "print(w, \"weighted connections\")\n",
    "print(f\"{ndim * 0.138:.2f} point attactors\")\n",
    "print(f\"{0.24 * w:.2f} bit capacity\")"
   ]
  },
  {
   "cell_type": "code",
   "execution_count": 519,
   "metadata": {},
   "outputs": [
    {
     "name": "stdout",
     "output_type": "stream",
     "text": [
      "[[ 8.  0. -1.  0. -1.  0. -1. -1. -1. -1. -1. -1. -1.  0. -1. -1.]\n",
      " [ 0.  0. -1.  0. -1. -1.  0. -1.  0. -1. -1. -1. -1. -1. -1. -1.]\n",
      " [-1. -1. 12. -1.  0. -1. -1. -1. -1. -1.  0. -1.  0. -1.  0. -1.]\n",
      " [ 0.  0. -1.  0. -1.  0.  0. -1. -1. -1. -1. -1. -1. -1. -1. -1.]\n",
      " [-1. -1.  0. -1. -8. -1. -1. -1. -1.  0.  0. -1. -1. -1.  0. -1.]\n",
      " [ 0. -1. -1.  0. -1. -8.  0.  0. -1. -1. -1. -1. -1.  0. -1. -1.]\n",
      " [-1.  0. -1.  0. -1.  0.  8. -1. -1. -1. -1. -1. -1.  0. -1. -1.]\n",
      " [-1. -1. -1. -1. -1.  0. -1.  4. -1. -1. -1. -1. -1.  0. -1. -1.]\n",
      " [-1.  0. -1. -1. -1. -1. -1. -1.  4. -1. -1. -1. -1. -1. -1. -1.]\n",
      " [-1. -1. -1. -1.  0. -1. -1. -1. -1. 16. -1. -1.  0. -1. -1. -1.]\n",
      " [-1. -1.  0. -1.  0. -1. -1. -1. -1. -1.  4. -1.  0. -1.  0.  0.]\n",
      " [-1. -1. -1. -1. -1. -1. -1. -1. -1. -1. -1.  0. -1. -1.  0.  0.]\n",
      " [-1. -1.  0. -1. -1. -1. -1. -1. -1.  0.  0. -1. 12. -1.  0. -1.]\n",
      " [ 0. -1. -1. -1. -1.  0.  0.  0. -1. -1. -1. -1. -1. 16. -1. -1.]\n",
      " [-1. -1.  0. -1.  0. -1. -1. -1. -1. -1.  0.  0.  0. -1.  4.  0.]\n",
      " [-1. -1. -1. -1. -1. -1. -1. -1. -1. -1.  0.  0. -1. -1.  0. 24.]]\n"
     ]
    }
   ],
   "source": [
    "# Train (Encoding)\n",
    "model.train(data)"
   ]
  },
  {
   "cell_type": "code",
   "execution_count": 520,
   "metadata": {},
   "outputs": [
    {
     "data": {
      "text/plain": [
       "Text(0.5, 1.0, 'Value')"
      ]
     },
     "execution_count": 520,
     "metadata": {},
     "output_type": "execute_result"
    },
    {
     "data": {
      "image/png": "[encoded data removed]",
      "text/plain": [
       "<Figure size 1000x3000 with 3 Axes>"
      ]
     },
     "metadata": {},
     "output_type": "display_data"
    }
   ],
   "source": [
    "plt.figure(figsize=(10,30))\n",
    "plt.subplot(1,3,1)\n",
    "plt.imshow(model.weights, cmap='magma')\n",
    "plt.title(\"Weights\")\n",
    "\n",
    "plt.subplot(1,3,2)\n",
    "plt.imshow(model.laplacian, cmap='magma')\n",
    "plt.title(\"Laplacian\")\n",
    "\n",
    "plt.subplot(1,3,3)\n",
    "plt.imshow(model.weights[1].reshape(int(ndim**0.5),int(ndim**0.5)), cmap='binary')\n",
    "plt.title(\"Value\")"
   ]
  },
  {
   "cell_type": "code",
   "execution_count": 521,
   "metadata": {},
   "outputs": [
    {
     "data": {
      "text/plain": [
       "<matplotlib.image.AxesImage at 0x7ff59c2637f0>"
      ]
     },
     "execution_count": 521,
     "metadata": {},
     "output_type": "execute_result"
    },
    {
     "data": {
      "image/png": "[encoded data removed]",
      "text/plain": [
       "<Figure size 640x480 with 2 Axes>"
      ]
     },
     "metadata": {},
     "output_type": "display_data"
    }
   ],
   "source": [
    "# state = np.random.randint(-1,2,(model.ndim)) # Noise\n",
    "\n",
    "plt.subplot(1,2,1)\n",
    "state = data[0]\n",
    "plt.imshow(state.reshape(int(ndim**0.5),int(ndim**0.5)))\n",
    "\n",
    "plt.subplot(1,2,2)\n",
    "state[:8] = 0\n",
    "plt.imshow(state.reshape(int(ndim**0.5),int(ndim**0.5)))"
   ]
  },
  {
   "cell_type": "code",
   "execution_count": 522,
   "metadata": {},
   "outputs": [
    {
     "ename": "TypeError",
     "evalue": "infer() takes 3 positional arguments but 4 were given",
     "output_type": "error",
     "traceback": [
      "\u001b[0;31m---------------------------------------------------------------------------\u001b[0m",
      "\u001b[0;31mTypeError\u001b[0m                                 Traceback (most recent call last)",
      "Cell \u001b[0;32mIn[522], line 9\u001b[0m\n\u001b[1;32m      7\u001b[0m plt\u001b[39m.\u001b[39mfigure(figsize\u001b[39m=\u001b[39m(\u001b[39m20\u001b[39m,\u001b[39m200\u001b[39m))\n\u001b[1;32m      8\u001b[0m \u001b[39mfor\u001b[39;00m i \u001b[39min\u001b[39;00m \u001b[39mrange\u001b[39m(steps):\n\u001b[0;32m----> 9\u001b[0m     state \u001b[39m=\u001b[39m model\u001b[39m.\u001b[39;49minfer(state, n_update, T)\u001b[39m.\u001b[39mastype(\u001b[39mfloat\u001b[39m)\n\u001b[1;32m     10\u001b[0m     E \u001b[39m=\u001b[39m model\u001b[39m.\u001b[39mcompute_energy(state)\n\u001b[1;32m     11\u001b[0m     energy\u001b[39m.\u001b[39mappend(E)\n",
      "\u001b[0;31mTypeError\u001b[0m: infer() takes 3 positional arguments but 4 were given"
     ]
    },
    {
     "data": {
      "text/plain": [
       "<Figure size 2000x20000 with 0 Axes>"
      ]
     },
     "metadata": {},
     "output_type": "display_data"
    }
   ],
   "source": [
    "# Infer (Retrieval)\n",
    "steps = 1000\n",
    "n_update = 16\n",
    "energy = []\n",
    "T = 1.0\n",
    "\n",
    "plt.figure(figsize=(20,200))\n",
    "for i in range(steps):\n",
    "    state = model.infer(state, n_update, T).astype(float)\n",
    "    E = model.compute_energy(state)\n",
    "    energy.append(E)\n",
    "\n",
    "    noise = np.random.randint(-1,2, state.shape) * T * 0.1 # Add disturbance\n",
    "    state += noise\n",
    "\n",
    "    T = max(T * 0.99, 0.001) # Simulated annealing\n",
    "\n",
    "    stamp = steps / 5\n",
    "    if i%stamp == 0:\n",
    "        m = int((i/stamp)+1)\n",
    "        plt.subplot(1, int(steps/stamp), m)\n",
    "        plt.imshow(state.reshape(int(ndim**0.5),int(ndim**0.5)), cmap='binary')\n",
    "        plt.title(i)\n",
    "        plt.axis('off')"
   ]
  },
  {
   "cell_type": "code",
   "execution_count": null,
   "metadata": {},
   "outputs": [
    {
     "data": {
      "text/plain": [
       "(Text(0.5, 0, 'Time'), Text(0, 0.5, 'Energy'))"
      ]
     },
     "execution_count": 82,
     "metadata": {},
     "output_type": "execute_result"
    },
    {
     "data": {
      "image/png": "[encoded data removed]",
      "text/plain": [
       "<Figure size 640x480 with 1 Axes>"
      ]
     },
     "metadata": {},
     "output_type": "display_data"
    }
   ],
   "source": [
    "x = np.arange(len(energy))\n",
    "y = np.array(energy).squeeze()\n",
    "\n",
    "plt.figure()\n",
    "plt.plot(x, y)\n",
    "plt.grid(axis='both', color='0.95')\n",
    "plt.title('Inference energy consumption')\n",
    "plt.xlabel('Time'), plt.ylabel('Energy')"
   ]
  }
 ],
 "metadata": {
  "kernelspec": {
   "display_name": "dev",
   "language": "python",
   "name": "python3"
  },
  "language_info": {
   "codemirror_mode": {
    "name": "ipython",
    "version": 3
   },
   "file_extension": ".py",
   "mimetype": "text/x-python",
   "name": "python",
   "nbconvert_exporter": "python",
   "pygments_lexer": "ipython3",
   "version": "3.9.16"
  },
  "orig_nbformat": 4,
  "vscode": {
   "interpreter": {
    "hash": "e22c083f026c7769b83b8857fa3ac4d22c31dd61e89868550b0afe4a500a3cf3"
   }
  }
 },
 "nbformat": 4,
 "nbformat_minor": 2
}
