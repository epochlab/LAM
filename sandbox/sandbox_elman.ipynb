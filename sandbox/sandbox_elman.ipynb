{
 "cells": [
  {
   "attachments": {},
   "cell_type": "markdown",
   "metadata": {},
   "source": [
    "## Elman networks (RNN)\n",
    "\n",
    "[Finding Structure in Time](http://psych.colorado.edu/~kimlab/Elman1990.pdf) (1990)"
   ]
  },
  {
   "cell_type": "code",
   "execution_count": 1,
   "metadata": {},
   "outputs": [],
   "source": [
    "import numpy as np\n",
    "import matplotlib.pyplot as plt"
   ]
  },
  {
   "cell_type": "code",
   "execution_count": 2,
   "metadata": {},
   "outputs": [],
   "source": [
    "# np.random.seed(123)"
   ]
  },
  {
   "cell_type": "code",
   "execution_count": 3,
   "metadata": {},
   "outputs": [],
   "source": [
    "def sigmoid(x): \n",
    "    return 1 / (1 + np.exp(-x))\n",
    "\n",
    "def sigmoid_backward(sx):\n",
    "    return sx * (1 - sx)"
   ]
  },
  {
   "cell_type": "code",
   "execution_count": 4,
   "metadata": {},
   "outputs": [],
   "source": [
    "x = np.array([[0,0], [0,1], [1,0], [1,1]]) # Input data\n",
    "y = np.array([[0,1,1,0]]).T # XOR Problem"
   ]
  },
  {
   "cell_type": "code",
   "execution_count": 5,
   "metadata": {},
   "outputs": [],
   "source": [
    "# Define layers - Encoding (Input), Hidden & Output\n",
    "_, encoding_dim = x.shape\n",
    "hidden_dim = 5\n",
    "output_dim = len(y.T)\n",
    "\n",
    "# Init weights\n",
    "w1 = np.random.random((encoding_dim, hidden_dim))\n",
    "w2 = np.random.random((hidden_dim, output_dim))"
   ]
  },
  {
   "cell_type": "code",
   "execution_count": 6,
   "metadata": {},
   "outputs": [],
   "source": [
    "epochs = 5000\n",
    "lr = 0.3\n",
    "loss = []\n",
    "\n",
    "for _ in range(epochs):\n",
    "\n",
    "    # Forward pass\n",
    "    hidden = sigmoid(x @ w1)\n",
    "    logits = sigmoid(hidden @ w2)\n",
    "\n",
    "    # Backprop - Chain rule\n",
    "    output_error = y - logits # Prediction error\n",
    "    dt_do = output_error * sigmoid_backward(logits) # Target direction\n",
    "\n",
    "    hidden_error = dt_do @ w2.T # Layer 1 contribution to layer 2 error (according to weights)\n",
    "    dt_dh = hidden_error * sigmoid_backward(hidden)\n",
    "\n",
    "    # Update weights - Delta rule\n",
    "    w2 += lr * (hidden.T @ dt_do)\n",
    "    w1 += lr * (x.T @ dt_dh)\n",
    "\n",
    "    loss.append(abs(sum(output_error)/len(y))) # Callback error"
   ]
  },
  {
   "cell_type": "code",
   "execution_count": 7,
   "metadata": {},
   "outputs": [
    {
     "name": "stdout",
     "output_type": "stream",
     "text": [
      "Input: [0 0] [0, 0] | Ground Truth: [0] | Prediction: 0\n",
      "Input: [0 1] [0, 1] | Ground Truth: [1] | Prediction: 1\n",
      "Input: [1 0] [1, 0] | Ground Truth: [1] | Prediction: 1\n",
      "Input: [1 1] [1, 1] | Ground Truth: [0] | Prediction: 0\n"
     ]
    }
   ],
   "source": [
    "for x, y in zip(x, y):\n",
    "    h_pred = sigmoid(x @ w1)\n",
    "    y_pred = sigmoid(h_pred @ w2)\n",
    "\n",
    "    print('Input:', x, [int(sample > 0.5) for sample in x], '| Ground Truth:', y, '| Prediction:', int(y_pred > 0.5))"
   ]
  },
  {
   "cell_type": "code",
   "execution_count": 8,
   "metadata": {},
   "outputs": [
    {
     "data": {
      "text/plain": [
       "(Text(0.5, 0, 'Epochs'), Text(0, 0.5, 'Loss'))"
      ]
     },
     "execution_count": 8,
     "metadata": {},
     "output_type": "execute_result"
    },
    {
     "data": {
      "image/png": "[encoded data removed]",
      "text/plain": [
       "<Figure size 640x480 with 1 Axes>"
      ]
     },
     "metadata": {},
     "output_type": "display_data"
    }
   ],
   "source": [
    "plt.figure()\n",
    "plt.plot(loss)\n",
    "plt.title('MLP Error Decay')\n",
    "plt.grid(axis='both', color='0.95')\n",
    "plt.xlabel('Epochs'), plt.ylabel('Loss')"
   ]
  }
 ],
 "metadata": {
  "kernelspec": {
   "display_name": "dev",
   "language": "python",
   "name": "python3"
  },
  "language_info": {
   "codemirror_mode": {
    "name": "ipython",
    "version": 3
   },
   "file_extension": ".py",
   "mimetype": "text/x-python",
   "name": "python",
   "nbconvert_exporter": "python",
   "pygments_lexer": "ipython3",
   "version": "3.9.16"
  },
  "orig_nbformat": 4,
  "vscode": {
   "interpreter": {
    "hash": "e22c083f026c7769b83b8857fa3ac4d22c31dd61e89868550b0afe4a500a3cf3"
   }
  }
 },
 "nbformat": 4,
 "nbformat_minor": 2
}
