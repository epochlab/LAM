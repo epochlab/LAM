{
 "cells": [
  {
   "attachments": {},
   "cell_type": "markdown",
   "metadata": {},
   "source": [
    "# Laplacian Associative Memory (LAM) - KINGFISHER\n",
    "\n",
    "[Multiscale representations of community structures in attractor neural networks](https://www.ncbi.nlm.nih.gov/pmc/articles/PMC8412329/pdf/pcbi.1009296.pdf) (2021)"
   ]
  },
  {
   "cell_type": "code",
   "execution_count": null,
   "metadata": {},
   "outputs": [],
   "source": [
    "import numpy as np\n",
    "import matplotlib.pyplot as plt\n",
    "import itertools, pickle, PIL.Image, scipy.linalg"
   ]
  },
  {
   "cell_type": "code",
   "execution_count": null,
   "metadata": {},
   "outputs": [],
   "source": [
    "FILENAME = \"/Users/James/Documents/PSY6431/data/images/kingfisher-1905255_640.jpg\""
   ]
  },
  {
   "cell_type": "code",
   "execution_count": null,
   "metadata": {},
   "outputs": [],
   "source": [
    "class LAM():\n",
    "    def __init__(self, N, P, prob, H, gamma, normalize):\n",
    "        self.initialize(N, P, prob, H, gamma, normalize)\n",
    "\n",
    "    def _step(self, z):\n",
    "        return 0.5 * np.sign(z) + 0.5\n",
    "\n",
    "    def _set_weight(self, a):\n",
    "        self.W = a * self.Wauto + self.Whetero - (a+1) * self.WG\n",
    "\n",
    "        # if self.norm_mode == \"sym\":\n",
    "        #     self.W = a * self.Wauto + self.Whetero - (a+1) * self.WG\n",
    "        # elif self.norm_mode == \"asym\":\n",
    "        #     self.W = a * self.Wauto + self.Whetero - (a+1) * self.WG\n",
    "\n",
    "    def initialize(self, N, P, prob, H, gamma, normalize):\n",
    "        self.N = N\n",
    "        self.P = P\n",
    "        self.prob = prob\n",
    "        self.H = H\n",
    "        self.gamma = gamma\n",
    "        self.V = self.prob * (1-self.prob)\n",
    "        self.norm_mode = normalize\n",
    "\n",
    "        # Normalization\n",
    "        if self.norm_mode == \"sym\":\n",
    "            Dnorm = np.diag(np.sum(self.H, axis=1)**-0.5)\n",
    "            self.H = Dnorm @ self.H @ Dnorm\n",
    "        elif self.norm_mode == \"asym\":\n",
    "            Dnorm = np.diag(np.sum(self.H, axis=1)**-1)\n",
    "            self.H = Dnorm @ self.H\n",
    "        else:\n",
    "            print(\"Error: Normalization mode sym or asym was not specified.\")\n",
    "            exit()\n",
    "        \n",
    "        # Generate patterns\n",
    "        self.xi = (np.random.rand(self.N, self.P) < self.prob).astype(np.float)\n",
    "        self.xi_mean = np.sum(self.xi, axis=1, keepdims=True) / self.P\n",
    "        self.xi_bias = self.xi - self.xi_mean\n",
    "\n",
    "        # Weights\n",
    "        if self.norm_mode == \"sym\":\n",
    "            self.Wauto = (self.xi_bias @ self.xi_bias.T) / (self.N * self.V)\n",
    "            self.Whetero = (self.xi_bias @ self.H @ self.xi_bias.T) / (self.N * self.V)\n",
    "            self.WG = self.gamma / self.N\n",
    "        elif self.norm_mode == \"asym\":\n",
    "            self.Wauto = (self.xi @ self.xi.T) / (self.N*self.V)\n",
    "            self.Whetero = (self.xi @ self.H @ self.xi.T) / (self.N*self.V)\n",
    "            self.WG = self.P * self.xi_mean @ self.xi_mean.T / (self.N*self.V) + self.gamma / self.N\n",
    "\n",
    "    def simulate_single(self, a, eta, simlen, start_node, energycheck=True):\n",
    "        self._set_weight(a)\n",
    "\n",
    "        # Simulation\n",
    "        self.x = self.xi[:,start_node] + 0.0\n",
    "        self.m_log = np.zeros([simlen, self.P])\n",
    "        self.obj_log = np.zeros([simlen])\n",
    "        for t in range(simlen):\n",
    "            if t%100 == 0:\n",
    "                print(t)\n",
    "            \n",
    "            self.r = self._step(self.W @ self.x)\n",
    "            self.x += eta*(self.r - self.x)\n",
    "            self.m = (self.xi_bias.T @ self.x) / (self.N*self.V)\n",
    "            self.m_log[t,:] = self.m\n",
    "            if energycheck:\n",
    "                self.obj_log[t] = -(self.x).T @ self.W @ self.x / (self.N * self.V)\n",
    "\n",
    "        return (self.m_log, self.obj_log)"
   ]
  },
  {
   "attachments": {},
   "cell_type": "markdown",
   "metadata": {},
   "source": [
    "---\n",
    "\n",
    "#### PROCESS IMAGE"
   ]
  },
  {
   "cell_type": "code",
   "execution_count": null,
   "metadata": {},
   "outputs": [],
   "source": [
    "def crop_img(img, window, offset):\n",
    "    img = np.array(img)\n",
    "\n",
    "    x = img.shape[1]\n",
    "    y = img.shape[0]\n",
    "    \n",
    "    x1 = int((x - window[0] + offset[0])/2)\n",
    "    x2 = int((x + window[0] + offset[0])/2)\n",
    "    y1 = int((y - window[1] + offset[1])/2)\n",
    "    y2 = int((y + window[1] + offset[1])/2)\n",
    "\n",
    "    return PIL.Image.fromarray(img[y1:y2,x1:x2])"
   ]
  },
  {
   "cell_type": "code",
   "execution_count": null,
   "metadata": {},
   "outputs": [],
   "source": [
    "img = PIL.Image.open(FILENAME)\n",
    "\n",
    "img_cropped = crop_img(img, (200, 200), (130, 40))\n",
    "# img_cropped.save(\"cropped.jpg\")\n",
    "plt.subplot(1,2,1)\n",
    "plt.imshow(img_cropped)\n",
    "\n",
    "img_resized = img_cropped.resize((35, 35))\n",
    "# img_resized.save(\"resized.jpg\")\n",
    "plt.subplot(1,2,2)\n",
    "plt.imshow(img_resized)"
   ]
  },
  {
   "attachments": {},
   "cell_type": "markdown",
   "metadata": {},
   "source": [
    "---\n",
    "\n",
    "#### BUILD GRAPH"
   ]
  },
  {
   "cell_type": "code",
   "execution_count": null,
   "metadata": {},
   "outputs": [],
   "source": [
    "img = np.array(img_resized, dtype=float) / np.max(img_resized) # Normalised input matrix\n",
    "\n",
    "n_row = img.shape[0]\n",
    "n_col = img.shape[1]\n",
    "N = n_row * n_col # N_units\n",
    "\n",
    "sigmaI = 0.1\n",
    "sigmaX = 4.0\n",
    "r = 5\n",
    "\n",
    "tmp = itertools.product(range(n_row), range(n_col))\n",
    "combi_all = itertools.combinations(tmp, 2)\n",
    "combi = [x for x in combi_all if np.sqrt((x[0][0] - x[1][0])**2 + (x[0][1] - x[1][1])**2) < r]\n",
    "\n",
    "edgelist_w = []\n",
    "for x1,x2 in combi:\n",
    "    n1 = int(x1[0] * n_col + x1[1])\n",
    "    n2 = int(x2[0] * n_col + x2[1])\n",
    "    simval = np.exp(-np.sum((img[x1[0], x1[1]] - img[x2[0], x2[1]])**2) / (sigmaI**2)) * np.exp(-((x1[0] - x2[0])**2 + (x1[1] - x2[1])**2) / (sigmaX**2))\n",
    "    edgelist_w.append((n1, n2, simval))\n",
    "\n",
    "#Adjacency matrix\n",
    "W = np.zeros([N, N])\n",
    "for x in edgelist_w:\n",
    "    W[x[0],x[1]] = x[2]\n",
    "    W[x[1],x[0]] = x[2]\n",
    "\n",
    "print(\"Nnode=\", N, \"Nedge=\", len(edgelist_w))\n",
    "plt.imshow(W)\n",
    "\n",
    "#numpy.savetxt(\"edgelist_weight.csv\", edgelist_w, delimiter=\",\")\n",
    "# np.savetxt(\"adjacency.csv\", W, delimiter=\",\")"
   ]
  },
  {
   "attachments": {},
   "cell_type": "markdown",
   "metadata": {},
   "source": [
    "---\n",
    "\n",
    "#### GRAPH LAPLACIAN"
   ]
  },
  {
   "cell_type": "code",
   "execution_count": null,
   "metadata": {},
   "outputs": [],
   "source": [
    "P = W.shape[0] # Adjacency Matrix\n",
    "\n",
    "Dnorm = np.diag(np.sum(W,axis=1)**-1) # Normalize\n",
    "\n",
    "# Laplacian\n",
    "L = np.eye(P) - Dnorm @ W\n",
    "e, v = scipy.linalg.eig(L)\n",
    "\n",
    "# Eigenval\n",
    "e = np.real(e)\n",
    "v = np.real(v)\n",
    "\n",
    "order = np.argsort(e)\n",
    "e = e[order]\n",
    "v = v[:,order]\n",
    "\n",
    "# np.savetxt(\"eigenval.csv\", e, delimiter=\",\")\n",
    "# np.savetxt(\"eigenvec.csv\", v, delimiter=\",\")"
   ]
  },
  {
   "attachments": {},
   "cell_type": "markdown",
   "metadata": {},
   "source": [
    "---\n",
    "\n",
    "#### SIM IMAGE"
   ]
  },
  {
   "cell_type": "code",
   "execution_count": null,
   "metadata": {},
   "outputs": [],
   "source": [
    "figsize = np.array(img_resized).shape[:2]\n",
    "\n",
    "# Network simulation\n",
    "N = 30000\n",
    "prob = 0.1\n",
    "eta = 0.01\n",
    "simlen = 3000\n",
    "gamma = 0.6\n",
    "a_arr = np.arange(-1.5, 3.1, 0.1)\n",
    "\n",
    "start_node = int(int(figsize[0]/2) * figsize[1] + int(figsize[1]/2))\n",
    "\n",
    "a_hist = []\n",
    "m_hist = []\n",
    "obj_hist = np.zeros([len(a_arr), simlen])"
   ]
  },
  {
   "cell_type": "code",
   "execution_count": null,
   "metadata": {},
   "outputs": [],
   "source": [
    "network = LAM(N, P, prob, W, gamma, \"asym\")"
   ]
  },
  {
   "cell_type": "code",
   "execution_count": null,
   "metadata": {},
   "outputs": [],
   "source": [
    "for a_ind in range(len(a_arr)):\n",
    "    a = np.around(a_arr[a_ind],decimals=1)\n",
    "    print(a, a_ind)\n",
    "    break\n",
    "    m_log, obj_log = network.simulate_single(a, eta, simlen, start_node)\n",
    "    m = m_log[-1,:]\n",
    "\n",
    "    a_hist.append(a)\n",
    "    m_hist.append(m)\n",
    "    save = (a_hist, m_hist)\n",
    "    pickle.dump(save, open(\"results.pickle\", \"wb\"))\n",
    "\n",
    "    obj_hist[a_ind,:]=obj_log\n",
    "    break\n",
    "\n",
    "    # np.savetxt(\"objfunc.csv\", obj_hist, delimiter=\",\")"
   ]
  }
 ],
 "metadata": {
  "kernelspec": {
   "display_name": "dev",
   "language": "python",
   "name": "python3"
  },
  "language_info": {
   "codemirror_mode": {
    "name": "ipython",
    "version": 3
   },
   "file_extension": ".py",
   "mimetype": "text/x-python",
   "name": "python",
   "nbconvert_exporter": "python",
   "pygments_lexer": "ipython3",
   "version": "3.9.16"
  },
  "orig_nbformat": 4
 },
 "nbformat": 4,
 "nbformat_minor": 2
}
