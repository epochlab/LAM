{
 "cells": [
  {
   "attachments": {},
   "cell_type": "markdown",
   "metadata": {},
   "source": [
    "## Elman Networks\n",
    "\n",
    "[Finding structure in time](http://psych.colorado.edu/~kimlab/Elman1990.pdf) (1990)"
   ]
  },
  {
   "cell_type": "code",
   "execution_count": 10,
   "metadata": {},
   "outputs": [],
   "source": [
    "from nn import elman\n",
    "from libtools import *\n",
    "from dict import alphabet\n",
    "\n",
    "import numpy as np\n",
    "import matplotlib.pyplot as plt"
   ]
  },
  {
   "cell_type": "code",
   "execution_count": 2,
   "metadata": {},
   "outputs": [],
   "source": [
    "# np.random.seed(123)"
   ]
  },
  {
   "cell_type": "code",
   "execution_count": 3,
   "metadata": {},
   "outputs": [],
   "source": [
    "model = elman(3,2,3)"
   ]
  },
  {
   "cell_type": "code",
   "execution_count": 9,
   "metadata": {},
   "outputs": [
    {
     "data": {
      "text/plain": [
       "{'a': '00001',\n",
       " 'b': '00010',\n",
       " 'c': '00011',\n",
       " 'd': '00100',\n",
       " 'e': '00101',\n",
       " 'f': '00110',\n",
       " 'g': '00111',\n",
       " 'h': '01000',\n",
       " 'i': '01001',\n",
       " 'j': '01010',\n",
       " 'k': '01011',\n",
       " 'l': '01100',\n",
       " 'm': '01101',\n",
       " 'n': '01110',\n",
       " 'o': '01111',\n",
       " 'p': '10000',\n",
       " 'q': '10001',\n",
       " 'r': '10010',\n",
       " 's': '10011',\n",
       " 't': '10100',\n",
       " 'u': '10101',\n",
       " 'v': '10110',\n",
       " 'w': '10111',\n",
       " 'x': '11000',\n",
       " 'y': '11001',\n",
       " 'z': '11010'}"
      ]
     },
     "execution_count": 9,
     "metadata": {},
     "output_type": "execute_result"
    }
   ],
   "source": [
    "alphabet()"
   ]
  },
  {
   "cell_type": "code",
   "execution_count": null,
   "metadata": {},
   "outputs": [],
   "source": []
  }
 ],
 "metadata": {
  "kernelspec": {
   "display_name": "dev",
   "language": "python",
   "name": "python3"
  },
  "language_info": {
   "codemirror_mode": {
    "name": "ipython",
    "version": 3
   },
   "file_extension": ".py",
   "mimetype": "text/x-python",
   "name": "python",
   "nbconvert_exporter": "python",
   "pygments_lexer": "ipython3",
   "version": "3.9.16"
  },
  "orig_nbformat": 4,
  "vscode": {
   "interpreter": {
    "hash": "e22c083f026c7769b83b8857fa3ac4d22c31dd61e89868550b0afe4a500a3cf3"
   }
  }
 },
 "nbformat": 4,
 "nbformat_minor": 2
}
