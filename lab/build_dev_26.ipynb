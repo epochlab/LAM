{
 "cells": [
  {
   "attachments": {},
   "cell_type": "markdown",
   "metadata": {},
   "source": [
    "# Laplacian Associative Memory (LAM) - DEV 26\n",
    "\n",
    "[Multiscale representations of community structures in attractor neural networks](https://www.ncbi.nlm.nih.gov/pmc/articles/PMC8412329/pdf/pcbi.1009296.pdf) (2021)\n",
    "\n",
    "- Simulation Export"
   ]
  },
  {
   "cell_type": "code",
   "execution_count": null,
   "metadata": {},
   "outputs": [],
   "source": [
    "from nn import LAM\n",
    "import libtools"
   ]
  },
  {
   "cell_type": "code",
   "execution_count": null,
   "metadata": {},
   "outputs": [],
   "source": [
    "import PIL.Image\n",
    "import numpy as np\n",
    "import matplotlib.pyplot as plt\n",
    "from tqdm import tqdm"
   ]
  },
  {
   "attachments": {},
   "cell_type": "markdown",
   "metadata": {},
   "source": [
    "---\n",
    "\n",
    "#### LOAD DATA"
   ]
  },
  {
   "cell_type": "code",
   "execution_count": null,
   "metadata": {},
   "outputs": [],
   "source": [
    "src = np.load('../data/mat/SOM_orient_v1.npy')\n",
    "src = libtools.downsample(src, 4)\n",
    "\n",
    "print('Map:', src.shape)\n",
    "print('Theta θ | min:', round(src.min(),4), 'max:', round(src.max(),4))"
   ]
  },
  {
   "attachments": {},
   "cell_type": "markdown",
   "metadata": {},
   "source": [
    "---\n",
    "\n",
    "### HYPER-PARAMETERS"
   ]
  },
  {
   "cell_type": "code",
   "execution_count": null,
   "metadata": {},
   "outputs": [],
   "source": [
    "N = 128**2                          # Neurons | Default: 30000\n",
    "prob = 0.1                          # Sparsity\n",
    "eta = 0.01                          # Epsilon / Learning rate\n",
    "simlen = 3000                       # Steps / Epochs\n",
    "gamma = 0.6                         # Inhibition ratio\n",
    "norm_mode = 'asym'                  # Asymmetric Normalisation\n",
    "alpha = -0.9                        # Ratio between local and global inhibition\n",
    "P = src.shape[0] * src.shape[1]     # N Nodes\n",
    "\n",
    "sigmaX = 0.001                      # Spatial Gaussian Scale\n",
    "sigmaA = 0.1                        # Angular Gaussian Scale\n",
    "\n",
    "# Init condition (Center cell/pixel)\n",
    "start_node = int(int(src.shape[0]/2) * src.shape[1] + int(src.shape[0]/2))\n",
    "\n",
    "print('Neurons:', N)\n",
    "print(\"Nodes:\", P)\n",
    "print('Start node:', start_node)\n",
    "print(f\"{P * 0.138:.2f} point attactors\")"
   ]
  },
  {
   "attachments": {},
   "cell_type": "markdown",
   "metadata": {},
   "source": [
    "---\n",
    "\n",
    "### COMPUTE"
   ]
  },
  {
   "cell_type": "code",
   "execution_count": null,
   "metadata": {},
   "outputs": [],
   "source": [
    "W = libtools.construct_SLAM(src, sigmaX, sigmaA) # Adjacency Matrix"
   ]
  },
  {
   "cell_type": "code",
   "execution_count": null,
   "metadata": {},
   "outputs": [],
   "source": [
    "graph = LAM(N, P, prob, W, gamma, \"asym\") # Weights"
   ]
  },
  {
   "cell_type": "code",
   "execution_count": null,
   "metadata": {},
   "outputs": [],
   "source": [
    "m_log, _ = graph.simulate_single(alpha, eta, simlen, start_node) # Simulate"
   ]
  },
  {
   "attachments": {},
   "cell_type": "markdown",
   "metadata": {},
   "source": [
    "---\n",
    "\n",
    "### RENDER"
   ]
  }
 ],
 "metadata": {
  "kernelspec": {
   "display_name": "dev",
   "language": "python",
   "name": "python3"
  },
  "language_info": {
   "codemirror_mode": {
    "name": "ipython",
    "version": 3
   },
   "file_extension": ".py",
   "mimetype": "text/x-python",
   "name": "python",
   "nbconvert_exporter": "python",
   "pygments_lexer": "ipython3",
   "version": "3.9.16"
  },
  "orig_nbformat": 4
 },
 "nbformat": 4,
 "nbformat_minor": 2
}
