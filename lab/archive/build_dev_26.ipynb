{
 "cells": [
  {
   "attachments": {},
   "cell_type": "markdown",
   "metadata": {},
   "source": [
    "# Laplacian Associative Memory (LAM) - DEV 26\n",
    "\n",
    "[Multiscale representations of community structures in attractor neural networks](https://www.ncbi.nlm.nih.gov/pmc/articles/PMC8412329/pdf/pcbi.1009296.pdf) (2021)\n",
    "\n",
    "- Simulation Render"
   ]
  },
  {
   "cell_type": "code",
   "execution_count": 1,
   "metadata": {},
   "outputs": [],
   "source": [
    "from nn import LAM\n",
    "import libtools"
   ]
  },
  {
   "cell_type": "code",
   "execution_count": 2,
   "metadata": {},
   "outputs": [],
   "source": [
    "import PIL.Image, imageio\n",
    "import numpy as np\n",
    "import matplotlib.pyplot as plt\n",
    "from tqdm import tqdm"
   ]
  },
  {
   "attachments": {},
   "cell_type": "markdown",
   "metadata": {},
   "source": [
    "---\n",
    "\n",
    "#### LOAD DATA"
   ]
  },
  {
   "cell_type": "code",
   "execution_count": 3,
   "metadata": {},
   "outputs": [
    {
     "name": "stdout",
     "output_type": "stream",
     "text": [
      "Map: (201, 201)\n",
      "min: 0.00 max: 6.28\n"
     ]
    }
   ],
   "source": [
    "src = np.load('../data/mat/SOM_orient_v1.npy')\n",
    "\n",
    "print('Map:', src.shape)\n",
    "print('min:', f\"{src.min():.2f}\", 'max:', f\"{src.max():.2f}\")"
   ]
  },
  {
   "cell_type": "code",
   "execution_count": 4,
   "metadata": {},
   "outputs": [
    {
     "name": "stdout",
     "output_type": "stream",
     "text": [
      "Image: (201, 201)\n",
      "min: 0.05 max: 1.00\n"
     ]
    }
   ],
   "source": [
    "img = np.array(PIL.Image.open(\"../data/images/coco/mesh.png\").convert('L'), dtype=float)\n",
    "img /= np.max(img)\n",
    "\n",
    "print('Image:', img.shape)\n",
    "print('min:', f\"{img.min():.2f}\", 'max:', f\"{img.max():.2f}\")"
   ]
  },
  {
   "cell_type": "code",
   "execution_count": 5,
   "metadata": {},
   "outputs": [
    {
     "name": "stdout",
     "output_type": "stream",
     "text": [
      "Features: (201, 201)\n",
      "min: 0.00 max: 1.84\n"
     ]
    }
   ],
   "source": [
    "features = libtools.gabor_conv(img, src)\n",
    "\n",
    "print('Features:', features.shape)\n",
    "print('min:', f\"{features.min():.2f}\", 'max:', f\"{features.max():.2f}\")"
   ]
  },
  {
   "attachments": {},
   "cell_type": "markdown",
   "metadata": {},
   "source": [
    "---\n",
    "\n",
    "### HYPER-PARAMETERS"
   ]
  },
  {
   "cell_type": "code",
   "execution_count": 6,
   "metadata": {},
   "outputs": [],
   "source": [
    "factor = 4\n",
    "src = libtools.downsample(src, factor)\n",
    "features = libtools.downsample(features, factor)"
   ]
  },
  {
   "cell_type": "code",
   "execution_count": 8,
   "metadata": {},
   "outputs": [
    {
     "name": "stdout",
     "output_type": "stream",
     "text": [
      "Neurons: 16384\n",
      "Nodes: 2601\n",
      "Start node: 1300\n",
      "358.94 point attactors\n"
     ]
    }
   ],
   "source": [
    "N = 128**2                          # Neurons | Default: 30000\n",
    "prob = 0.1                          # Sparsity\n",
    "eta = 0.01                          # Epsilon / Learning rate\n",
    "simlen = 3000                       # Steps / Epochs\n",
    "gamma = 0.6                         # Inhibition ratio\n",
    "norm_mode = 'asym'                  # Asymmetric Normalisation\n",
    "alpha = -0.9                        # Ratio between local and global inhibition\n",
    "P = src.shape[0] * src.shape[1]     # N Nodes\n",
    "\n",
    "sigmaX = 0.0001                     # Spatial Gaussian Scale\n",
    "sigmaA = 0.1                        # Angular Gaussian Scale\n",
    "\n",
    "# Init condition (Center cell/pixel)\n",
    "start_node = int(int(src.shape[0]/2) * src.shape[1] + int(src.shape[0]/2))\n",
    "\n",
    "print('Neurons:', N)\n",
    "print(\"Nodes:\", P)\n",
    "print('Start node:', start_node)\n",
    "print(f\"{P * 0.138:.2f} point attactors\")"
   ]
  },
  {
   "attachments": {},
   "cell_type": "markdown",
   "metadata": {},
   "source": [
    "---\n",
    "\n",
    "### COMPUTE"
   ]
  },
  {
   "cell_type": "code",
   "execution_count": null,
   "metadata": {},
   "outputs": [],
   "source": [
    "W = libtools.construct_SLAM(src, sigmaX, sigmaA) # Adjacency Matrix"
   ]
  },
  {
   "cell_type": "code",
   "execution_count": null,
   "metadata": {},
   "outputs": [],
   "source": [
    "graph = LAM(N, P, prob, W, gamma, \"asym\") # Weights"
   ]
  },
  {
   "cell_type": "code",
   "execution_count": null,
   "metadata": {},
   "outputs": [],
   "source": [
    "init_state = graph._set_state(features, 0.0415) # Initial Condition\n",
    "\n",
    "[a, b] = libtools.unit_count(graph.xi[:, start_node], init_state)\n",
    "print('A:', a)\n",
    "print('B:', b)\n",
    "print('Diff:', np.diff([a,b])[0])"
   ]
  },
  {
   "cell_type": "code",
   "execution_count": null,
   "metadata": {},
   "outputs": [],
   "source": [
    "m_log, _ = graph.simulate_single(alpha, eta, simlen, init_state.copy(), cond=True) # Simulate"
   ]
  },
  {
   "attachments": {},
   "cell_type": "markdown",
   "metadata": {},
   "source": [
    "---\n",
    "\n",
    "### RENDER"
   ]
  },
  {
   "cell_type": "code",
   "execution_count": null,
   "metadata": {},
   "outputs": [],
   "source": [
    "seq = []\n",
    "for i in range(simlen):\n",
    "    if i%10==0:\n",
    "        m = m_log[i,:]\n",
    "        m = m + abs(m.min())\n",
    "        m /= m.max()\n",
    "        # m[start_node] = m.min()\n",
    "        frame = m.reshape(src.shape)\n",
    "        seq.append(plt.colormaps['magma'](frame) * 255.0)\n",
    "\n",
    "frames = np.uint8(seq)\n",
    "imageio.mimsave('../data/render/patternSim_spatial_initCond.gif', frames)"
   ]
  }
 ],
 "metadata": {
  "kernelspec": {
   "display_name": "dev",
   "language": "python",
   "name": "python3"
  },
  "language_info": {
   "codemirror_mode": {
    "name": "ipython",
    "version": 3
   },
   "file_extension": ".py",
   "mimetype": "text/x-python",
   "name": "python",
   "nbconvert_exporter": "python",
   "pygments_lexer": "ipython3",
   "version": "3.9.16"
  },
  "orig_nbformat": 4
 },
 "nbformat": 4,
 "nbformat_minor": 2
}
