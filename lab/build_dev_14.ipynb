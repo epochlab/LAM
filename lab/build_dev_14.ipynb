{
 "cells": [
  {
   "attachments": {},
   "cell_type": "markdown",
   "metadata": {},
   "source": [
    "# Laplacian Associative Memory (LAM) - DEV 10\n",
    "\n",
    "[Multiscale representations of community structures in attractor neural networks](https://www.ncbi.nlm.nih.gov/pmc/articles/PMC8412329/pdf/pcbi.1009296.pdf) (2021)\n",
    "\n",
    "- Gabor Filter pt2"
   ]
  },
  {
   "cell_type": "code",
   "execution_count": null,
   "metadata": {},
   "outputs": [],
   "source": [
    "from nn import LAM\n",
    "import libtools"
   ]
  },
  {
   "cell_type": "code",
   "execution_count": null,
   "metadata": {},
   "outputs": [],
   "source": [
    "import numpy as np\n",
    "import matplotlib.pyplot as plt"
   ]
  },
  {
   "cell_type": "code",
   "execution_count": null,
   "metadata": {},
   "outputs": [],
   "source": [
    "# np.random.seed(123)"
   ]
  },
  {
   "cell_type": "code",
   "execution_count": null,
   "metadata": {},
   "outputs": [],
   "source": [
    "# Load SOM Angular Component Map\n",
    "src = np.load('../data/mat/SOM_orient_v1.npy')\n",
    "src = libtools.downsample(src, 4)"
   ]
  },
  {
   "cell_type": "code",
   "execution_count": null,
   "metadata": {},
   "outputs": [],
   "source": [
    "plt.figure(figsize=(20,20))\n",
    "plt.imshow(src)\n",
    "plt.title('SOM Orientation Map')\n",
    "plt.tight_layout()\n",
    "\n",
    "print(src.shape)\n",
    "print('Theta θ | min:', round(src.min(),4), 'max:', round(src.max(),4))"
   ]
  },
  {
   "attachments": {},
   "cell_type": "markdown",
   "metadata": {},
   "source": [
    "---\n",
    "\n",
    "### ANGULAR COMPONENT"
   ]
  },
  {
   "cell_type": "code",
   "execution_count": null,
   "metadata": {},
   "outputs": [],
   "source": [
    "features = np.zeros_like(src)\n",
    "for i in range(src.shape[0]):\n",
    "    for j in range(src.shape[1]):\n",
    "        x = src[i][j] - np.pi # Arc tangent | -π and π\n",
    "        deg = np.rad2deg(x*0.5) # *0.5 to keep range between -90 and 90\n",
    "        kernel = libtools.gabor_filter(2, 1, deg) # Orientation\n",
    "        features[i][j] = np.sum(x * kernel) # Firing Rate / Response"
   ]
  },
  {
   "cell_type": "code",
   "execution_count": null,
   "metadata": {},
   "outputs": [],
   "source": [
    "plt.figure(figsize=(25,20))\n",
    "plt.imshow(features, 'gray')\n",
    "plt.title('Inverse Tangent Activation Response')\n",
    "plt.colorbar()"
   ]
  },
  {
   "attachments": {},
   "cell_type": "markdown",
   "metadata": {},
   "source": [
    "---\n",
    "\n",
    "### COMPUTE GRAPH"
   ]
  },
  {
   "cell_type": "code",
   "execution_count": null,
   "metadata": {},
   "outputs": [],
   "source": [
    "N = 4096                            # Neurons | Default: 30000\n",
    "prob = 0.1                          # Sparsity\n",
    "eta = 0.01                          # Epsilon / Learning rate\n",
    "epochs = 3000                       # Steps\n",
    "gamma = 0.6                         # Inhibition ratio\n",
    "norm_mode = 'asym'                  # Asymmetric Normalisation\n",
    "alpha = -0.9                        # Ratio betwen local and global inhibition\n",
    "P = src.shape[0] * src.shape[1]     # N Nodes\n",
    "\n",
    "rad = 5                             # Radius of receptive field / kernel\n",
    "sigmaX = 4.0                        # Spatial Gaussian Scale\n",
    "sigmaA = 1.0                        # Angular Component Gaussian Scale\n",
    "\n",
    "# Init condition (Center cell)\n",
    "start_node = int(int(src.shape[0]/2) * src.shape[1] + int(src.shape[0]/2))\n",
    "print('Start node:', start_node)"
   ]
  },
  {
   "cell_type": "code",
   "execution_count": null,
   "metadata": {},
   "outputs": [],
   "source": [
    "# Construct matrix\n",
    "W = libtools.construct_SOAM(src, rad, sigmaX, sigmaA)"
   ]
  },
  {
   "cell_type": "code",
   "execution_count": null,
   "metadata": {},
   "outputs": [],
   "source": [
    "# Build graph\n",
    "graph = LAM(N, P, prob, W, gamma, norm_mode)"
   ]
  },
  {
   "cell_type": "code",
   "execution_count": null,
   "metadata": {},
   "outputs": [],
   "source": [
    "# Graph Laplacian (GL) Eigenvectors\n",
    "_, v = libtools.GL_eigen(W, norm_mode)"
   ]
  },
  {
   "cell_type": "code",
   "execution_count": null,
   "metadata": {},
   "outputs": [],
   "source": [
    "# Simulate LAM\n",
    "graph._set_weight(alpha)\n",
    "m_log, _ = graph.simulate_single(alpha, eta, epochs, start_node)\n",
    "m = m_log[-1,:]"
   ]
  },
  {
   "cell_type": "code",
   "execution_count": null,
   "metadata": {},
   "outputs": [],
   "source": [
    "plt.figure(figsize=(30,5))\n",
    "plt.subplot(1, 5, 1)\n",
    "dist = np.linspace(0, rad, 100)\n",
    "plt.plot(dist, libtools.gaussian(dist, sigmaX), label=f'σX = {sigmaX}')\n",
    "plt.plot(dist, libtools.gaussian(dist, sigmaA), label=f'σA = {sigmaA}')\n",
    "plt.title('Gaussian Distribution')\n",
    "plt.xlabel('Radius'), plt.ylabel('Gaussian Value')\n",
    "plt.xlim([0, rad]), plt.grid(alpha=0.25), plt.legend()\n",
    "\n",
    "plt.subplot(1, 5, 2)\n",
    "plt.imshow(W, 'jet')\n",
    "plt.title('Adjacency Weight Matrix')\n",
    "\n",
    "plt.subplot(1, 5, 3)\n",
    "plt.imshow(W[start_node].reshape(src.shape), 'gray')\n",
    "plt.title('Correlation Kernel (Node: ' + str(start_node) + ')')\n",
    "\n",
    "plt.subplot(1, 5, 4)\n",
    "k = 0\n",
    "plt.imshow(v[:,k].reshape(src.shape), vmin=np.min(v[:,k]), vmax=np.max(v[:,k]))\n",
    "plt.title('GL Eigen | k='+ str(k))\n",
    "\n",
    "plt.subplot(1, 5, 5)\n",
    "plt.imshow(m.reshape(src.shape), vmin=np.min(m), vmax=np.max(m))\n",
    "plt.title('SOAM | alpha=' + str(alpha))"
   ]
  }
 ],
 "metadata": {
  "kernelspec": {
   "display_name": "dev",
   "language": "python",
   "name": "python3"
  },
  "language_info": {
   "codemirror_mode": {
    "name": "ipython",
    "version": 3
   },
   "file_extension": ".py",
   "mimetype": "text/x-python",
   "name": "python",
   "nbconvert_exporter": "python",
   "pygments_lexer": "ipython3",
   "version": "3.9.16"
  },
  "orig_nbformat": 4
 },
 "nbformat": 4,
 "nbformat_minor": 2
}
