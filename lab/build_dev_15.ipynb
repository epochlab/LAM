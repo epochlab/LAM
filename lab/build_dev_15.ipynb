{
 "cells": [
  {
   "attachments": {},
   "cell_type": "markdown",
   "metadata": {},
   "source": [
    "# Laplacian Associative Memory (LAM) - DEV 13\n",
    "\n",
    "[Multiscale representations of community structures in attractor neural networks](https://www.ncbi.nlm.nih.gov/pmc/articles/PMC8412329/pdf/pcbi.1009296.pdf) (2021)\n",
    "\n",
    "- Re-run sigma testing protocol with radius updated SOAM"
   ]
  },
  {
   "cell_type": "code",
   "execution_count": null,
   "metadata": {},
   "outputs": [],
   "source": [
    "from nn import LAM\n",
    "import libtools"
   ]
  },
  {
   "cell_type": "code",
   "execution_count": null,
   "metadata": {},
   "outputs": [],
   "source": [
    "import numpy as np\n",
    "import matplotlib.pyplot as plt\n",
    "from tqdm import tqdm"
   ]
  },
  {
   "cell_type": "code",
   "execution_count": null,
   "metadata": {},
   "outputs": [],
   "source": [
    "# np.random.seed(123)"
   ]
  },
  {
   "cell_type": "code",
   "execution_count": null,
   "metadata": {},
   "outputs": [],
   "source": [
    "src = np.load('../data/mat/SOM_orient_v1.npy')\n",
    "src = libtools.downsample(src, 4)"
   ]
  },
  {
   "cell_type": "code",
   "execution_count": null,
   "metadata": {},
   "outputs": [],
   "source": [
    "plt.figure(figsize=(20,20))\n",
    "plt.imshow(src)\n",
    "plt.title('SOM Orientation Map')\n",
    "plt.tight_layout()\n",
    "\n",
    "print(src.shape)\n",
    "print('Theta θ | min:', round(src.min(),4), 'max:', round(src.max(),4))"
   ]
  },
  {
   "cell_type": "code",
   "execution_count": null,
   "metadata": {},
   "outputs": [],
   "source": [
    "N = 8192                            # Neurons | Default: 30000\n",
    "prob = 0.1                          # Sparsity\n",
    "eta = 0.01                          # Epsilon / Learning rate\n",
    "epochs = 3000                       # Steps\n",
    "gamma = 0.6                         # Inhibition ratio\n",
    "norm_mode = 'asym'                  # Asymmetric Normalisation\n",
    "alpha = -0.9                        # Ratio between local and global inhibition\n",
    "P = src.shape[0] * src.shape[1]     # N Nodes\n",
    "\n",
    "a_arr = np.arange(-1.5, 1.5, 0.1)   # Alpha range\n",
    "\n",
    "sigmaX = 4.0                        # Spatial Scale\n",
    "sigmaA = 0.1                        # Angular Scale\n",
    "\n",
    "# Init condition (Center cell)\n",
    "start_node = int(int(src.shape[0]/2) * src.shape[1] + int(src.shape[0]/2))\n",
    "print('Start node:', start_node)\n",
    "\n",
    "# Malloc\n",
    "a_hist, m_hist = [], []\n",
    "obj_hist = np.zeros([len(a_arr), epochs])"
   ]
  },
  {
   "cell_type": "code",
   "execution_count": null,
   "metadata": {},
   "outputs": [],
   "source": [
    "W = libtools.construct_SOAM(src, sigmaX, sigmaA)"
   ]
  },
  {
   "cell_type": "code",
   "execution_count": null,
   "metadata": {},
   "outputs": [],
   "source": [
    "graph = LAM(N, P, prob, W, gamma, \"asym\") # Build model"
   ]
  },
  {
   "cell_type": "code",
   "execution_count": null,
   "metadata": {},
   "outputs": [],
   "source": [
    "for a_ind in tqdm(range(len(a_arr))):\n",
    "    a = np.around(a_arr[a_ind], decimals=1) # Isolate (a) from array\n",
    "    m_log, obj_log = graph.simulate_single(a, eta, epochs, start_node) # Simulate alpha\n",
    "    m = m_log[-1,:] # Extract final row (epoch) from m_log\n",
    "\n",
    "    # Append callbacks\n",
    "    a_hist.append(a)\n",
    "    m_hist.append(m)\n",
    "    obj_hist[a_ind,:] = obj_log"
   ]
  },
  {
   "cell_type": "code",
   "execution_count": null,
   "metadata": {},
   "outputs": [],
   "source": [
    "# Pattern overlaps obtained after the simulation of LAM at different *α* values\n",
    "plt.figure(figsize=(15,70))\n",
    "for a_ind in range(len(a_arr)):\n",
    "    a = np.around(a_arr[a_ind], decimals=1)\n",
    "    m = m_hist[a_ind]\n",
    "\n",
    "    plt.subplot(20, 3, a_ind+1)\n",
    "    plt.imshow(m.reshape((n_row,n_col)), cmap=\"Spectral\", vmin=np.min(m), vmax=np.max(m))\n",
    "    plt.axis(\"off\"), plt.colorbar()\n",
    "    plt.title(r\"$\\alpha$=\"+str(a))"
   ]
  }
 ],
 "metadata": {
  "kernelspec": {
   "display_name": "dev",
   "language": "python",
   "name": "python3"
  },
  "language_info": {
   "codemirror_mode": {
    "name": "ipython",
    "version": 3
   },
   "file_extension": ".py",
   "mimetype": "text/x-python",
   "name": "python",
   "nbconvert_exporter": "python",
   "pygments_lexer": "ipython3",
   "version": "3.9.16"
  },
  "orig_nbformat": 4
 },
 "nbformat": 4,
 "nbformat_minor": 2
}
