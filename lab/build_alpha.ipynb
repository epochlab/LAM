{
 "cells": [
  {
   "attachments": {},
   "cell_type": "markdown",
   "metadata": {},
   "source": [
    "# Laplacian Associative Memory (LAM) - ALPHA\n",
    "\n",
    "[Multiscale representations of community structures in attractor neural networks](https://www.ncbi.nlm.nih.gov/pmc/articles/PMC8412329/pdf/pcbi.1009296.pdf) (2021)"
   ]
  },
  {
   "cell_type": "code",
   "execution_count": null,
   "metadata": {},
   "outputs": [],
   "source": [
    "from nn import LAM\n",
    "import libtools"
   ]
  },
  {
   "cell_type": "code",
   "execution_count": null,
   "metadata": {},
   "outputs": [],
   "source": [
    "import numpy as np\n",
    "import matplotlib.pyplot as plt\n",
    "from tqdm import tqdm"
   ]
  },
  {
   "attachments": {},
   "cell_type": "markdown",
   "metadata": {},
   "source": [
    "---\n",
    "\n",
    "#### DATA"
   ]
  },
  {
   "cell_type": "code",
   "execution_count": null,
   "metadata": {},
   "outputs": [],
   "source": [
    "# src = libtools.preference_map(16, 25, 200)\n",
    "src = np.load('../data/mat/SOM_orient_v1.npy')\n",
    "src = libtools.downsample(src, 4)\n",
    "\n",
    "print('Map:', src.shape)\n",
    "print('min:', f\"{src.min():.2f}\", 'max:', f\"{src.max():.2f}\")"
   ]
  },
  {
   "attachments": {},
   "cell_type": "markdown",
   "metadata": {},
   "source": [
    "---\n",
    "\n",
    "### HYPER-PARAMETERS"
   ]
  },
  {
   "cell_type": "code",
   "execution_count": null,
   "metadata": {},
   "outputs": [],
   "source": [
    "N = 8192                                # Neurons | Default: 30000\n",
    "prob = 0.1                              # Sparsity\n",
    "eta = 0.01                              # Epsilon / Learning rate\n",
    "simlen = 3000                           # Steps / Epochs\n",
    "gamma = 0.6                             # Inhibition ratio\n",
    "norm_mode = 'asym'                      # Asymmetric Normalisation\n",
    "P = src.shape[0] * src.shape[1]         # N Nodes\n",
    "\n",
    "sigmaX = 0.001                          # Spatial Gaussian Scale\n",
    "sigmaA = 0.1                            # Angular Gaussian Scale\n",
    "\n",
    "temp = 0.0215                           # Activation Probability\n",
    "\n",
    "# Init condition (Center cell/pixel)\n",
    "start_node = int(int(src.shape[0]/2) * src.shape[1] + int(src.shape[0]/2))\n",
    "\n",
    "print('Neurons:', N)\n",
    "print(\"Nodes:\", P)\n",
    "print('Start node:', start_node)\n",
    "print(f\"{P * 0.138:.2f} point attactors\")"
   ]
  },
  {
   "attachments": {},
   "cell_type": "markdown",
   "metadata": {},
   "source": [
    "---\n",
    "\n",
    "### COMPUTE | ALPHA"
   ]
  },
  {
   "cell_type": "code",
   "execution_count": null,
   "metadata": {},
   "outputs": [],
   "source": [
    "a_arr = np.arange(-1.0, 1.0, 0.1) # Alpha"
   ]
  },
  {
   "cell_type": "code",
   "execution_count": null,
   "metadata": {},
   "outputs": [],
   "source": [
    "a_hist, m_hist = [],[]\n",
    "\n",
    "for i in tqdm(range(len(a_arr))):\n",
    "    a = np.around(a_arr[i], decimals=1)\n",
    "    W = libtools.construct_SLAM(src, sigmaX, sigmaA)\n",
    "\n",
    "    graph = LAM(N, P, prob, W, gamma, \"asym\", start_node)\n",
    "    graph._set_weight(a_arr[i])\n",
    "    \n",
    "    m_log, _, e_log = graph.simulate_single(a_arr[i], eta, simlen)\n",
    "    m = m_log[-1,:].copy()\n",
    "\n",
    "    a_hist.append(a)\n",
    "    m_hist.append(m)"
   ]
  },
  {
   "cell_type": "code",
   "execution_count": null,
   "metadata": {},
   "outputs": [],
   "source": [
    "plt.figure(figsize=(15,70))\n",
    "for a_ind in range(len(a_arr)):\n",
    "    a = np.around(a_arr[a_ind], decimals=1)\n",
    "    m = m_hist[a_ind]\n",
    "    m[start_node] = m.min()\n",
    "\n",
    "    plt.subplot(20, 3, a_ind+1)\n",
    "    plt.imshow(m.reshape(src.shape), cmap=\"Spectral\", vmin=np.min(m), vmax=np.max(m))\n",
    "    plt.axis(\"off\"), plt.colorbar()\n",
    "    plt.title(r\"$\\alpha$=\"+str(a))"
   ]
  },
  {
   "attachments": {},
   "cell_type": "markdown",
   "metadata": {},
   "source": [
    "---"
   ]
  },
  {
   "cell_type": "code",
   "execution_count": null,
   "metadata": {},
   "outputs": [],
   "source": [
    "Na = len(a_arr)\n",
    "max_overlap = np.zeros(Na)\n",
    "Nactive = np.zeros(Na)\n",
    "\n",
    "for a_ind in range(Na):\n",
    "    m = m_hist[a_ind]\n",
    "    max_m = np.max(m)\n",
    "    max_overlap[a_ind] = max_m\n",
    "    Nactive[a_ind] = np.mean(np.sum((m > 0.5*max_m) * (m > 0.05), axis=0))\n",
    "\n",
    "xlim=[np.min(a_arr), np.max(a_arr)]\n",
    "xticks=[xlim[0], -1, 0, 1, xlim[1]]\n",
    "\n",
    "# Max. overlap\n",
    "plt.figure(figsize=(15,5))\n",
    "plt.subplot(1,3,1)\n",
    "plt.plot(a_arr, max_overlap)\n",
    "plt.xlabel(r\"$\\alpha$\"), plt.ylabel(\"Maximum overlap\")\n",
    "plt.xlim(xlim), plt.xticks(xticks)\n",
    "plt.grid('on', alpha=0.25)\n",
    "\n",
    "# Number of patterns\n",
    "plt.subplot(1,3,2)\n",
    "plt.plot(a_arr, Nactive)\n",
    "plt.xlabel(r\"$\\alpha$\"), plt.ylabel(\"Number of active patterns\")\n",
    "plt.xlim(xlim), plt.xticks(xticks)\n",
    "plt.grid('on', alpha=0.25)\n",
    "\n",
    "# Energy\n",
    "plt.subplot(1,3,3)\n",
    "plt.plot(e_log)\n",
    "plt.xlabel(\"Epochs\"), plt.ylabel(\"Energy\")\n",
    "plt.xlim(0,simlen)\n",
    "plt.grid('on', alpha=0.25)"
   ]
  }
 ],
 "metadata": {
  "kernelspec": {
   "display_name": "dev",
   "language": "python",
   "name": "python3"
  },
  "language_info": {
   "codemirror_mode": {
    "name": "ipython",
    "version": 3
   },
   "file_extension": ".py",
   "mimetype": "text/x-python",
   "name": "python",
   "nbconvert_exporter": "python",
   "pygments_lexer": "ipython3",
   "version": "3.9.16"
  },
  "orig_nbformat": 4
 },
 "nbformat": 4,
 "nbformat_minor": 2
}
