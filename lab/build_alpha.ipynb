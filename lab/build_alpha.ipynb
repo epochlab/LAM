{
 "cells": [
  {
   "attachments": {},
   "cell_type": "markdown",
   "metadata": {},
   "source": [
    "# Laplacian Associative Memory (LAM) - ALPHA\n",
    "\n",
    "[Multiscale representations of community structures in attractor neural networks](https://www.ncbi.nlm.nih.gov/pmc/articles/PMC8412329/pdf/pcbi.1009296.pdf) (2021)"
   ]
  },
  {
   "cell_type": "code",
   "execution_count": null,
   "metadata": {},
   "outputs": [],
   "source": [
    "from nn import LAM\n",
    "import libtools"
   ]
  },
  {
   "cell_type": "code",
   "execution_count": null,
   "metadata": {},
   "outputs": [],
   "source": [
    "import numpy as np\n",
    "import matplotlib.pyplot as plt\n",
    "from tqdm import tqdm"
   ]
  },
  {
   "attachments": {},
   "cell_type": "markdown",
   "metadata": {},
   "source": [
    "---\n",
    "\n",
    "#### DATA"
   ]
  },
  {
   "cell_type": "code",
   "execution_count": null,
   "metadata": {},
   "outputs": [],
   "source": [
    "src = libtools.preference_map(16, 25, 200)\n",
    "src = libtools.downsample(src, 4)\n",
    "\n",
    "print('Map:', src.shape)\n",
    "print('min:', f\"{src.min():.2f}\", 'max:', f\"{src.max():.2f}\")"
   ]
  },
  {
   "attachments": {},
   "cell_type": "markdown",
   "metadata": {},
   "source": [
    "---\n",
    "\n",
    "### HYPER-PARAMETERS"
   ]
  },
  {
   "cell_type": "code",
   "execution_count": null,
   "metadata": {},
   "outputs": [],
   "source": [
    "N = 8192                                # Neurons | Default: 30000\n",
    "prob = 0.1                              # Sparsity\n",
    "eta = 0.01                              # Epsilon / Learning rate\n",
    "simlen = 3000                           # Steps / Epochs\n",
    "gamma = 0.6                             # Inhibition ratio\n",
    "norm_mode = 'asym'                      # Asymmetric Normalisation\n",
    "P = src.shape[0] * src.shape[1]         # N Nodes\n",
    "\n",
    "sigmaX = 0.001                          # Spatial Gaussian Scale\n",
    "sigmaA = 0.1                            # Angular Gaussian Scale\n",
    "\n",
    "temp = 0.0215                           # Activation Probability\n",
    "\n",
    "# Init condition (Center cell/pixel)\n",
    "start_node = int(int(src.shape[0]/2) * src.shape[1] + int(src.shape[0]/2))\n",
    "\n",
    "print('Neurons:', N)\n",
    "print(\"Nodes:\", P)\n",
    "print('Start node:', start_node)\n",
    "print(f\"{P * 0.138:.2f} point attactors\")"
   ]
  },
  {
   "attachments": {},
   "cell_type": "markdown",
   "metadata": {},
   "source": [
    "---\n",
    "\n",
    "### COMPUTE | ALPHA"
   ]
  },
  {
   "cell_type": "code",
   "execution_count": null,
   "metadata": {},
   "outputs": [],
   "source": [
    "a_arr = np.arange(-1.0, 1.0, 0.1) # Alpha"
   ]
  },
  {
   "cell_type": "code",
   "execution_count": null,
   "metadata": {},
   "outputs": [],
   "source": [
    "a_hist, Mx = [],[]\n",
    "\n",
    "for i in tqdm(range(len(a_arr))):\n",
    "    a = np.around(a_arr[i], decimals=1)\n",
    "    W = libtools.construct_SLAM(src, sigmaX, sigmaA)\n",
    "\n",
    "    graph = LAM(N, P, prob, W, gamma, \"asym\", start_node)\n",
    "    graph._set_weight(a_arr[i])\n",
    "    \n",
    "    m_log, _, _ = graph.simulate_single(a_arr[i], eta, simlen)\n",
    "    m = m_log[-1,:].copy()\n",
    "\n",
    "    a_hist.append(a)\n",
    "    Mx.append(m)"
   ]
  },
  {
   "cell_type": "code",
   "execution_count": null,
   "metadata": {},
   "outputs": [],
   "source": [
    "# Pattern overlaps obtained after the simulation of LAM at different *α* values\n",
    "plt.figure(figsize=(15,70))\n",
    "for a_ind in range(len(a_arr)):\n",
    "    a = np.around(a_arr[a_ind], decimals=1)\n",
    "    m = Mx[a_ind]\n",
    "    m[start_node] = m.min()\n",
    "\n",
    "    plt.subplot(20, 3, a_ind+1)\n",
    "    plt.imshow(m.reshape(src.shape), cmap=\"Spectral\", vmin=np.min(m), vmax=np.max(m))\n",
    "    plt.axis(\"off\"), plt.colorbar()\n",
    "    plt.title(r\"$\\alpha$=\"+str(a))"
   ]
  }
 ],
 "metadata": {
  "kernelspec": {
   "display_name": "dev",
   "language": "python",
   "name": "python3"
  },
  "language_info": {
   "codemirror_mode": {
    "name": "ipython",
    "version": 3
   },
   "file_extension": ".py",
   "mimetype": "text/x-python",
   "name": "python",
   "nbconvert_exporter": "python",
   "pygments_lexer": "ipython3",
   "version": "3.9.16"
  },
  "orig_nbformat": 4
 },
 "nbformat": 4,
 "nbformat_minor": 2
}
