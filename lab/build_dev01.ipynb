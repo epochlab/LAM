{
 "cells": [
  {
   "attachments": {},
   "cell_type": "markdown",
   "metadata": {},
   "source": [
    "# Laplacian Associative Memory (LAM) - DEV 01\n",
    "\n",
    "[Multiscale representations of community structures in attractor neural networks](https://www.ncbi.nlm.nih.gov/pmc/articles/PMC8412329/pdf/pcbi.1009296.pdf) (2021)\n",
    "\n",
    "- FFT | Assign wavelength and gabor scale based on 2D fast fourier transform."
   ]
  },
  {
   "cell_type": "code",
   "execution_count": null,
   "metadata": {},
   "outputs": [],
   "source": [
    "import PIL.Image, imageio\n",
    "import numpy as np\n",
    "import matplotlib.pyplot as plt"
   ]
  },
  {
   "cell_type": "code",
   "execution_count": null,
   "metadata": {},
   "outputs": [],
   "source": [
    "import sys\n",
    "sys.path.append('..')\n",
    "\n",
    "from nn_npy import LAM\n",
    "import libtools"
   ]
  },
  {
   "attachments": {},
   "cell_type": "markdown",
   "metadata": {},
   "source": [
    "---\n",
    "\n",
    "#### DATA"
   ]
  },
  {
   "cell_type": "code",
   "execution_count": null,
   "metadata": {},
   "outputs": [],
   "source": [
    "img = np.array(PIL.Image.open(\"../data/images/coco/mesh.png\").convert('L'), dtype=float)\n",
    "img /= np.max(img)\n",
    "\n",
    "print('Image:', img.shape)\n",
    "print('min:', f\"{img.min():.2f}\", 'max:', f\"{img.max():.2f}\")"
   ]
  },
  {
   "attachments": {},
   "cell_type": "markdown",
   "metadata": {},
   "source": [
    "---"
   ]
  },
  {
   "cell_type": "code",
   "execution_count": null,
   "metadata": {},
   "outputs": [],
   "source": [
    "f = np.fft.fft2(img) # Frequency transform\n",
    "fshift = np.fft.fftshift(f) # Shift zero frequency component (DC-component)\n",
    "power = np.abs(fshift) # Process complex numbers\n",
    "phase = np.angle(fshift)"
   ]
  },
  {
   "cell_type": "code",
   "execution_count": null,
   "metadata": {},
   "outputs": [],
   "source": [
    "# Define radial distance\n",
    "nx, ny = power.shape\n",
    "x = np.arange(-power.shape[0]//2, power.shape[0]//2)\n",
    "y = np.arange(-power.shape[1]//2, power.shape[1]//2)\n",
    "X, Y = np.meshgrid(x, y)\n",
    "dist = np.sqrt(X**2 + Y**2)\n",
    "\n",
    "# Compute spatial frequency\n",
    "hist, bins = np.histogram(dist.flatten(), bins=np.arange(dist.max()), weights=power.flatten())\n",
    "\n",
    "count = hist[1:].argmax()\n",
    "print('Freqency at which power is greatest:', count)"
   ]
  },
  {
   "cell_type": "code",
   "execution_count": null,
   "metadata": {},
   "outputs": [],
   "source": [
    "plt.figure(figsize=(40,10))\n",
    "plt.subplot(1,4,1)\n",
    "plt.imshow(img, 'gray')\n",
    "plt.title('Source')\n",
    "\n",
    "plt.subplot(1,4,2)\n",
    "plt.imshow(power, 'binary')\n",
    "plt.title('Power Spectra')\n",
    "\n",
    "plt.subplot(1,4,3)\n",
    "plt.imshow(np.log(power), 'binary')\n",
    "plt.title('Power Spectra (Log)')\n",
    "\n",
    "plt.subplot(1,4,4)\n",
    "plt.plot(bins[:-1], hist, lw=1)\n",
    "plt.vlines(count+1, 0, hist[1:].max(), linewidth=1, color='r')\n",
    "plt.title('Spatial Frequency')\n",
    "plt.xlabel('Distance from Origin'), plt.ylabel('Power')\n",
    "plt.xlim([1,int(dist.max())]), plt.ylim([0,int(hist[1:].max())])\n",
    "plt.grid(alpha=0.25)\n",
    "\n",
    "plt.tight_layout()"
   ]
  },
  {
   "attachments": {},
   "cell_type": "markdown",
   "metadata": {},
   "source": [
    "---"
   ]
  },
  {
   "cell_type": "code",
   "execution_count": null,
   "metadata": {},
   "outputs": [],
   "source": [
    "src = libtools.preference_map(16, count*2, img.shape[0]) # 2X power of spatial frequency FFT\n",
    "# src = np.load('../data/mat/SOM_orient_v1.npy')\n",
    "\n",
    "print('Map:', src.shape)\n",
    "print('min:', f\"{src.min():.2f}\", 'max:', f\"{src.max():.2f}\")"
   ]
  },
  {
   "cell_type": "code",
   "execution_count": null,
   "metadata": {},
   "outputs": [],
   "source": [
    "features = libtools.gabor_conv(img, src, step=int(count)) # Power of spatial frequency FFT (No multiplicative factor)\n",
    "features /= np.max(features)\n",
    "\n",
    "print('Features:', features.shape)\n",
    "print('min:', f\"{features.min():.2f}\", 'max:', f\"{features.max():.2f}\")"
   ]
  },
  {
   "cell_type": "code",
   "execution_count": null,
   "metadata": {},
   "outputs": [],
   "source": [
    "plt.figure(figsize=(40,10))\n",
    "plt.subplot(1,4,1)\n",
    "plt.imshow(src, 'magma')\n",
    "plt.title('Orientation Pref. Map')\n",
    "\n",
    "plt.subplot(1,4,2)\n",
    "plt.imshow(img, 'gray')\n",
    "plt.title('Afferent Stimuli')\n",
    "\n",
    "plt.subplot(1,4,3)\n",
    "plt.imshow(libtools.gabor_filter(1,2,0, samples=int(count)), 'gray')\n",
    "plt.title('Gabor Filter')\n",
    "\n",
    "plt.subplot(1,4,4)\n",
    "plt.imshow(features, 'gray')\n",
    "plt.title('Feature Space')\n",
    "plt.tight_layout()"
   ]
  },
  {
   "attachments": {},
   "cell_type": "markdown",
   "metadata": {},
   "source": [
    "---\n",
    "\n",
    "### HYPER-PARAMETERS"
   ]
  },
  {
   "cell_type": "code",
   "execution_count": null,
   "metadata": {},
   "outputs": [],
   "source": [
    "factor = 3\n",
    "src = libtools.downsample(src, factor)\n",
    "features = libtools.downsample(features, factor)\n",
    "\n",
    "print(\"Downsampled Source:\", src.shape)"
   ]
  },
  {
   "cell_type": "code",
   "execution_count": null,
   "metadata": {},
   "outputs": [],
   "source": [
    "N = 128**2                              # Neurons | Default: 30000\n",
    "prob = 0.1                              # Sparsity\n",
    "eta = 0.01                              # Epsilon / Learning rate\n",
    "simlen = 3000                           # Steps / Epochs\n",
    "gamma = 0.6                             # Inhibition ratio\n",
    "norm_mode = 'asym'                      # Asymmetric Normalisation\n",
    "alpha = -0.9                            # Ratio between local and global inhibition\n",
    "P = src.shape[0] * src.shape[1]         # N Nodes\n",
    "\n",
    "sigmaX = 1e-5                           # Spatial Gaussian Scale\n",
    "sigmaA = 0.5                            # Angular Gaussian Scale\n",
    "\n",
    "temp = 0.07                             # Activation Probability\n",
    "\n",
    "# Init condition (Center cell/pixel)\n",
    "start_node = int(int(src.shape[0]/2) * src.shape[1] + int(src.shape[0]/2))\n",
    "\n",
    "print('Neurons:', N)\n",
    "print(\"Nodes:\", P)\n",
    "print('Start node:', start_node)\n",
    "print(f\"{P * 0.138:.2f} point attactors\")"
   ]
  },
  {
   "attachments": {},
   "cell_type": "markdown",
   "metadata": {},
   "source": [
    "---\n",
    "\n",
    "### COMPUTE"
   ]
  },
  {
   "cell_type": "code",
   "execution_count": null,
   "metadata": {},
   "outputs": [],
   "source": [
    "W = libtools.construct_SLAM(src, sigmaX, sigmaA) # Adjacency Matrix"
   ]
  },
  {
   "cell_type": "code",
   "execution_count": null,
   "metadata": {},
   "outputs": [],
   "source": [
    "graph = LAM(N, P, prob, W, gamma, \"asym\", start_node, features, temp) # Weights"
   ]
  },
  {
   "cell_type": "code",
   "execution_count": null,
   "metadata": {},
   "outputs": [],
   "source": [
    "m_log, p_log, e_log = graph.simulate_single(alpha, eta, simlen) # Simulate"
   ]
  },
  {
   "cell_type": "code",
   "execution_count": null,
   "metadata": {},
   "outputs": [],
   "source": [
    "m = m_log[-1,:].copy()\n",
    "# m[start_node] = np.mean(np.delete(m, start_node))\n",
    "\n",
    "max_m = np.max(m)\n",
    "Nactive = np.mean(np.sum((m > 0.5*max_m), axis=0))\n",
    "print(\"Maximum overlap:\", max_m)\n",
    "print(\"Number of patterns:\", Nactive)"
   ]
  },
  {
   "attachments": {},
   "cell_type": "markdown",
   "metadata": {},
   "source": [
    "---\n",
    "\n",
    "### PLOT"
   ]
  },
  {
   "cell_type": "code",
   "execution_count": null,
   "metadata": {},
   "outputs": [],
   "source": [
    "# HSV2RGB\n",
    "m_norm = m + abs(m.min())\n",
    "m_norm /= m_norm.max()\n",
    "\n",
    "hsv_pattern = libtools.grade(src/(2*np.pi), 1.0, m_norm.reshape(src.shape))\n",
    "hsv_features = libtools.grade(src/(2*np.pi), 1.0, features.reshape(src.shape))"
   ]
  },
  {
   "cell_type": "code",
   "execution_count": null,
   "metadata": {},
   "outputs": [],
   "source": [
    "plt.figure(figsize=(30,30))\n",
    "plt.subplot(3, 3, 1)\n",
    "plt.imshow(src, 'magma')\n",
    "plt.title('Orientation Pref. Map')\n",
    "\n",
    "plt.subplot(3, 3, 2)\n",
    "plt.imshow(img, 'gray')\n",
    "plt.title('Afferent Stimuli')\n",
    "\n",
    "plt.subplot(3, 3, 3)\n",
    "plt.imshow(features, 'gray')\n",
    "plt.title('Feature Space')\n",
    "\n",
    "plt.subplot(3, 3, 4)\n",
    "plt.imshow(W, 'jet')\n",
    "plt.title('Adjacency Weight Matrix')\n",
    "\n",
    "plt.subplot(3, 3, 5)\n",
    "plt.imshow(m.reshape(src.shape), 'magma')\n",
    "plt.title(\"Pattern Overlap | alpha=\" + str(alpha))\n",
    "\n",
    "plt.subplot(3, 3, 6)\n",
    "plt.imshow(hsv_pattern)\n",
    "plt.title(\"HSV2RGB Pattern\")\n",
    "\n",
    "plt.subplot(3, 3, 7)\n",
    "plt.imshow(hsv_features)\n",
    "plt.title(\"HSV2RGB Features\")\n",
    "\n",
    "plt.subplot(3, 3, 8)\n",
    "dim = int(N**0.5)\n",
    "plt.imshow(graph.xi[:, start_node].reshape([dim,dim]), 'gray')\n",
    "plt.title(\"Initial Condition\")\n",
    "\n",
    "plt.subplot(3, 3, 9)\n",
    "plt.imshow(graph.x.reshape([dim,dim]), 'turbo')\n",
    "plt.title(\"Stable Network\")\n",
    "plt.tight_layout()"
   ]
  },
  {
   "attachments": {},
   "cell_type": "markdown",
   "metadata": {},
   "source": [
    "---\n",
    "\n",
    "### RENDER"
   ]
  },
  {
   "cell_type": "code",
   "execution_count": null,
   "metadata": {},
   "outputs": [],
   "source": [
    "libtools.render(m_log.reshape([simlen, src.shape[0], src.shape[1]]), 10, '../data/render/patternSim_FFT.gif') # Pattern Overlap"
   ]
  },
  {
   "cell_type": "code",
   "execution_count": null,
   "metadata": {},
   "outputs": [],
   "source": [
    "libtools.render(p_log.reshape([simlen, dim, dim]), 10, '../data/render/stateSim_FFT.gif', 'turbo') # State Stabilisation"
   ]
  },
  {
   "cell_type": "code",
   "execution_count": null,
   "metadata": {},
   "outputs": [],
   "source": [
    "hsv_log = []\n",
    "for i in range(m_log.shape[0]):\n",
    "    if i%10==0:\n",
    "        m = m_log[i,:].copy()\n",
    "        # m[start_node] = np.mean(np.delete(m, start_node))\n",
    "        m_norm = m + abs(m.min())\n",
    "        m_norm /= m_norm.max()\n",
    "\n",
    "        hsv_log.append(libtools.grade(src/(2*np.pi), 1.0, m_norm.reshape(src.shape)))\n",
    "\n",
    "hsv_log = np.array(hsv_log)\n",
    "\n",
    "imageio.mimsave(\"../data/render/patternSim_hsv_fft.gif\", np.uint8(hsv_log * 255.0))"
   ]
  }
 ],
 "metadata": {
  "kernelspec": {
   "display_name": "dev",
   "language": "python",
   "name": "python3"
  },
  "language_info": {
   "codemirror_mode": {
    "name": "ipython",
    "version": 3
   },
   "file_extension": ".py",
   "mimetype": "text/x-python",
   "name": "python",
   "nbconvert_exporter": "python",
   "pygments_lexer": "ipython3",
   "version": "3.9.16"
  },
  "orig_nbformat": 4
 },
 "nbformat": 4,
 "nbformat_minor": 2
}
